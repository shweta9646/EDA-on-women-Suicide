{
 "cells": [
  {
   "cell_type": "code",
   "execution_count": 1,
   "id": "presidential-choice",
   "metadata": {
    "_cell_guid": "b1076dfc-b9ad-4769-8c92-a6c4dae69d19",
    "_uuid": "8f2839f25d086af736a60e9eeb907d3b93b6e0e5",
    "execution": {
     "iopub.execute_input": "2021-04-28T13:17:36.550874Z",
     "iopub.status.busy": "2021-04-28T13:17:36.550091Z",
     "iopub.status.idle": "2021-04-28T13:17:36.575033Z",
     "shell.execute_reply": "2021-04-28T13:17:36.573698Z"
    },
    "papermill": {
     "duration": 0.051086,
     "end_time": "2021-04-28T13:17:36.575291",
     "exception": false,
     "start_time": "2021-04-28T13:17:36.524205",
     "status": "completed"
    },
    "tags": []
   },
   "outputs": [
    {
     "name": "stdout",
     "output_type": "stream",
     "text": [
      "/kaggle/input/7k-indian-famous-women/data.csv\n"
     ]
    }
   ],
   "source": [
    "# This Python 3 environment comes with many helpful analytics libraries installed\n",
    "# It is defined by the kaggle/python Docker image: https://github.com/kaggle/docker-python\n",
    "# For example, here's several helpful packages to load\n",
    "\n",
    "import numpy as np # linear algebra\n",
    "import pandas as pd # data processing, CSV file I/O (e.g. pd.read_csv)\n",
    "\n",
    "# Input data files are available in the read-only \"../input/\" directory\n",
    "# For example, running this (by clicking run or pressing Shift+Enter) will list all files under the input directory\n",
    "\n",
    "import os\n",
    "for dirname, _, filenames in os.walk('/kaggle/input'):\n",
    "    for filename in filenames:\n",
    "        print(os.path.join(dirname, filename))\n",
    "\n",
    "# You can write up to 20GB to the current directory (/kaggle/working/) that gets preserved as output when you create a version using \"Save & Run All\" \n",
    "# You can also write temporary files to /kaggle/temp/, but they won't be saved outside of the current session"
   ]
  },
  {
   "cell_type": "code",
   "execution_count": 2,
   "id": "sonic-depth",
   "metadata": {
    "execution": {
     "iopub.execute_input": "2021-04-28T13:17:36.608268Z",
     "iopub.status.busy": "2021-04-28T13:17:36.607494Z",
     "iopub.status.idle": "2021-04-28T13:17:37.497329Z",
     "shell.execute_reply": "2021-04-28T13:17:37.497900Z"
    },
    "papermill": {
     "duration": 0.908346,
     "end_time": "2021-04-28T13:17:37.498083",
     "exception": false,
     "start_time": "2021-04-28T13:17:36.589737",
     "status": "completed"
    },
    "tags": []
   },
   "outputs": [],
   "source": [
    "import pandas as pd \n",
    "import numpy as np \n",
    "import seaborn as sns\n",
    "import warnings\n",
    "import matplotlib.pyplot as plt"
   ]
  },
  {
   "cell_type": "code",
   "execution_count": 3,
   "id": "proprietary-bermuda",
   "metadata": {
    "execution": {
     "iopub.execute_input": "2021-04-28T13:17:37.531966Z",
     "iopub.status.busy": "2021-04-28T13:17:37.531115Z",
     "iopub.status.idle": "2021-04-28T13:17:37.622512Z",
     "shell.execute_reply": "2021-04-28T13:17:37.621735Z"
    },
    "papermill": {
     "duration": 0.11082,
     "end_time": "2021-04-28T13:17:37.622673",
     "exception": false,
     "start_time": "2021-04-28T13:17:37.511853",
     "status": "completed"
    },
    "tags": []
   },
   "outputs": [
    {
     "data": {
      "text/html": [
       "<div>\n",
       "<style scoped>\n",
       "    .dataframe tbody tr th:only-of-type {\n",
       "        vertical-align: middle;\n",
       "    }\n",
       "\n",
       "    .dataframe tbody tr th {\n",
       "        vertical-align: top;\n",
       "    }\n",
       "\n",
       "    .dataframe thead th {\n",
       "        text-align: right;\n",
       "    }\n",
       "</style>\n",
       "<table border=\"1\" class=\"dataframe\">\n",
       "  <thead>\n",
       "    <tr style=\"text-align: right;\">\n",
       "      <th></th>\n",
       "      <th>Full Name</th>\n",
       "      <th>Description</th>\n",
       "      <th>Job</th>\n",
       "      <th>Education Place</th>\n",
       "      <th>Native Language</th>\n",
       "      <th>Country</th>\n",
       "      <th>Father</th>\n",
       "      <th>Mother</th>\n",
       "      <th>Spouse</th>\n",
       "      <th>Birth Date</th>\n",
       "      <th>Death Date</th>\n",
       "      <th>Birth Place</th>\n",
       "      <th>Death Place</th>\n",
       "      <th>Death Method</th>\n",
       "      <th>Death Reason</th>\n",
       "    </tr>\n",
       "  </thead>\n",
       "  <tbody>\n",
       "    <tr>\n",
       "      <th>0</th>\n",
       "      <td>Shanta Shelke</td>\n",
       "      <td>Marathi Poet And Writer</td>\n",
       "      <td>Poet</td>\n",
       "      <td>NaN</td>\n",
       "      <td>NaN</td>\n",
       "      <td>India</td>\n",
       "      <td>NaN</td>\n",
       "      <td>NaN</td>\n",
       "      <td>NaN</td>\n",
       "      <td>1922-10-19</td>\n",
       "      <td>2002-06-06</td>\n",
       "      <td>Pune</td>\n",
       "      <td>NaN</td>\n",
       "      <td>Natural Causes</td>\n",
       "      <td>Cancer</td>\n",
       "    </tr>\n",
       "    <tr>\n",
       "      <th>1</th>\n",
       "      <td>Sonali Bendre</td>\n",
       "      <td>Indian Actress And Model</td>\n",
       "      <td>Model</td>\n",
       "      <td>Kendriya Vidyalaya</td>\n",
       "      <td>Hindi</td>\n",
       "      <td>India</td>\n",
       "      <td>NaN</td>\n",
       "      <td>NaN</td>\n",
       "      <td>Goldie Behl</td>\n",
       "      <td>1975-01-01</td>\n",
       "      <td>NaN</td>\n",
       "      <td>Mumbai</td>\n",
       "      <td>NaN</td>\n",
       "      <td>NaN</td>\n",
       "      <td>NaN</td>\n",
       "    </tr>\n",
       "    <tr>\n",
       "      <th>2</th>\n",
       "      <td>Indira Gandhi</td>\n",
       "      <td>Indian Prime Minister And Politician (1917-1984)</td>\n",
       "      <td>Politician</td>\n",
       "      <td>Somerville College</td>\n",
       "      <td>NaN</td>\n",
       "      <td>India</td>\n",
       "      <td>Jawaharlal Nehru</td>\n",
       "      <td>Kamala Nehru</td>\n",
       "      <td>Feroze Gandhi</td>\n",
       "      <td>1917-11-19</td>\n",
       "      <td>1984-10-31</td>\n",
       "      <td>Allahabad</td>\n",
       "      <td>New Delhi</td>\n",
       "      <td>Homicide</td>\n",
       "      <td>Ballistic Trauma</td>\n",
       "    </tr>\n",
       "    <tr>\n",
       "      <th>3</th>\n",
       "      <td>Baby Halder</td>\n",
       "      <td>Indian Housemaid And Author</td>\n",
       "      <td>Writer</td>\n",
       "      <td>NaN</td>\n",
       "      <td>Bengali</td>\n",
       "      <td>India</td>\n",
       "      <td>NaN</td>\n",
       "      <td>NaN</td>\n",
       "      <td>NaN</td>\n",
       "      <td>1973-06-19</td>\n",
       "      <td>NaN</td>\n",
       "      <td>Kashmir</td>\n",
       "      <td>NaN</td>\n",
       "      <td>NaN</td>\n",
       "      <td>NaN</td>\n",
       "    </tr>\n",
       "    <tr>\n",
       "      <th>4</th>\n",
       "      <td>Genelia D'Souza</td>\n",
       "      <td>Indian Actress</td>\n",
       "      <td>Actor</td>\n",
       "      <td>St. Andrew'S College, Mumbai</td>\n",
       "      <td>NaN</td>\n",
       "      <td>India</td>\n",
       "      <td>NaN</td>\n",
       "      <td>NaN</td>\n",
       "      <td>Riteish Deshmukh</td>\n",
       "      <td>1982-08-05</td>\n",
       "      <td>NaN</td>\n",
       "      <td>Mumbai</td>\n",
       "      <td>NaN</td>\n",
       "      <td>NaN</td>\n",
       "      <td>NaN</td>\n",
       "    </tr>\n",
       "  </tbody>\n",
       "</table>\n",
       "</div>"
      ],
      "text/plain": [
       "         Full Name                                       Description  \\\n",
       "0    Shanta Shelke                           Marathi Poet And Writer   \n",
       "1    Sonali Bendre                          Indian Actress And Model   \n",
       "2    Indira Gandhi  Indian Prime Minister And Politician (1917-1984)   \n",
       "3      Baby Halder                       Indian Housemaid And Author   \n",
       "4  Genelia D'Souza                                    Indian Actress   \n",
       "\n",
       "          Job               Education Place Native Language Country  \\\n",
       "0        Poet                           NaN             NaN   India   \n",
       "1       Model            Kendriya Vidyalaya           Hindi   India   \n",
       "2  Politician            Somerville College             NaN   India   \n",
       "3      Writer                           NaN         Bengali   India   \n",
       "4       Actor  St. Andrew'S College, Mumbai             NaN   India   \n",
       "\n",
       "             Father        Mother            Spouse  Birth Date  Death Date  \\\n",
       "0               NaN           NaN               NaN  1922-10-19  2002-06-06   \n",
       "1               NaN           NaN       Goldie Behl  1975-01-01         NaN   \n",
       "2  Jawaharlal Nehru  Kamala Nehru     Feroze Gandhi  1917-11-19  1984-10-31   \n",
       "3               NaN           NaN               NaN  1973-06-19         NaN   \n",
       "4               NaN           NaN  Riteish Deshmukh  1982-08-05         NaN   \n",
       "\n",
       "  Birth Place Death Place    Death Method      Death Reason  \n",
       "0        Pune         NaN  Natural Causes            Cancer  \n",
       "1      Mumbai         NaN             NaN               NaN  \n",
       "2   Allahabad   New Delhi        Homicide  Ballistic Trauma  \n",
       "3     Kashmir         NaN             NaN               NaN  \n",
       "4      Mumbai         NaN             NaN               NaN  "
      ]
     },
     "execution_count": 3,
     "metadata": {},
     "output_type": "execute_result"
    }
   ],
   "source": [
    "data= pd.read_csv('/kaggle/input/7k-indian-famous-women/data.csv')\n",
    "data.head()"
   ]
  },
  {
   "cell_type": "code",
   "execution_count": 4,
   "id": "native-newport",
   "metadata": {
    "execution": {
     "iopub.execute_input": "2021-04-28T13:17:37.664016Z",
     "iopub.status.busy": "2021-04-28T13:17:37.663313Z",
     "iopub.status.idle": "2021-04-28T13:17:37.754986Z",
     "shell.execute_reply": "2021-04-28T13:17:37.754177Z"
    },
    "papermill": {
     "duration": 0.118348,
     "end_time": "2021-04-28T13:17:37.755163",
     "exception": false,
     "start_time": "2021-04-28T13:17:37.636815",
     "status": "completed"
    },
    "tags": []
   },
   "outputs": [
    {
     "data": {
      "text/html": [
       "<div>\n",
       "<style scoped>\n",
       "    .dataframe tbody tr th:only-of-type {\n",
       "        vertical-align: middle;\n",
       "    }\n",
       "\n",
       "    .dataframe tbody tr th {\n",
       "        vertical-align: top;\n",
       "    }\n",
       "\n",
       "    .dataframe thead th {\n",
       "        text-align: right;\n",
       "    }\n",
       "</style>\n",
       "<table border=\"1\" class=\"dataframe\">\n",
       "  <thead>\n",
       "    <tr style=\"text-align: right;\">\n",
       "      <th></th>\n",
       "      <th>Full Name</th>\n",
       "      <th>Description</th>\n",
       "      <th>Job</th>\n",
       "      <th>Education Place</th>\n",
       "      <th>Native Language</th>\n",
       "      <th>Country</th>\n",
       "      <th>Father</th>\n",
       "      <th>Mother</th>\n",
       "      <th>Spouse</th>\n",
       "      <th>Birth Date</th>\n",
       "      <th>Death Date</th>\n",
       "      <th>Birth Place</th>\n",
       "      <th>Death Place</th>\n",
       "      <th>Death Method</th>\n",
       "      <th>Death Reason</th>\n",
       "    </tr>\n",
       "  </thead>\n",
       "  <tbody>\n",
       "    <tr>\n",
       "      <th>count</th>\n",
       "      <td>7686</td>\n",
       "      <td>7639</td>\n",
       "      <td>7575</td>\n",
       "      <td>1676</td>\n",
       "      <td>573</td>\n",
       "      <td>7686</td>\n",
       "      <td>360</td>\n",
       "      <td>214</td>\n",
       "      <td>872</td>\n",
       "      <td>6322</td>\n",
       "      <td>1155</td>\n",
       "      <td>5110</td>\n",
       "      <td>620</td>\n",
       "      <td>130</td>\n",
       "      <td>176</td>\n",
       "    </tr>\n",
       "    <tr>\n",
       "      <th>unique</th>\n",
       "      <td>7577</td>\n",
       "      <td>2096</td>\n",
       "      <td>349</td>\n",
       "      <td>499</td>\n",
       "      <td>17</td>\n",
       "      <td>26</td>\n",
       "      <td>314</td>\n",
       "      <td>185</td>\n",
       "      <td>846</td>\n",
       "      <td>4723</td>\n",
       "      <td>1033</td>\n",
       "      <td>1073</td>\n",
       "      <td>184</td>\n",
       "      <td>5</td>\n",
       "      <td>54</td>\n",
       "    </tr>\n",
       "    <tr>\n",
       "      <th>top</th>\n",
       "      <td>Rajwinder Kaur</td>\n",
       "      <td>Indian Actress</td>\n",
       "      <td>Actor</td>\n",
       "      <td>University Of Calcutta</td>\n",
       "      <td>Odia</td>\n",
       "      <td>India</td>\n",
       "      <td>Deenanath Mangeshkar</td>\n",
       "      <td>Manik Varma</td>\n",
       "      <td>Alyque Padamsee</td>\n",
       "      <td>2000-00-00</td>\n",
       "      <td>1990-01-01</td>\n",
       "      <td>Mumbai</td>\n",
       "      <td>Mumbai</td>\n",
       "      <td>Natural Causes</td>\n",
       "      <td>Myocardial Infarction</td>\n",
       "    </tr>\n",
       "    <tr>\n",
       "      <th>freq</th>\n",
       "      <td>3</td>\n",
       "      <td>1639</td>\n",
       "      <td>2534</td>\n",
       "      <td>150</td>\n",
       "      <td>252</td>\n",
       "      <td>7472</td>\n",
       "      <td>4</td>\n",
       "      <td>3</td>\n",
       "      <td>3</td>\n",
       "      <td>32</td>\n",
       "      <td>6</td>\n",
       "      <td>651</td>\n",
       "      <td>106</td>\n",
       "      <td>75</td>\n",
       "      <td>28</td>\n",
       "    </tr>\n",
       "  </tbody>\n",
       "</table>\n",
       "</div>"
      ],
      "text/plain": [
       "             Full Name     Description    Job         Education Place  \\\n",
       "count             7686            7639   7575                    1676   \n",
       "unique            7577            2096    349                     499   \n",
       "top     Rajwinder Kaur  Indian Actress  Actor  University Of Calcutta   \n",
       "freq                 3            1639   2534                     150   \n",
       "\n",
       "       Native Language Country                Father       Mother  \\\n",
       "count              573    7686                   360          214   \n",
       "unique              17      26                   314          185   \n",
       "top               Odia   India  Deenanath Mangeshkar  Manik Varma   \n",
       "freq               252    7472                     4            3   \n",
       "\n",
       "                 Spouse  Birth Date  Death Date Birth Place Death Place  \\\n",
       "count               872        6322        1155        5110         620   \n",
       "unique              846        4723        1033        1073         184   \n",
       "top     Alyque Padamsee  2000-00-00  1990-01-01      Mumbai      Mumbai   \n",
       "freq                  3          32           6         651         106   \n",
       "\n",
       "          Death Method           Death Reason  \n",
       "count              130                    176  \n",
       "unique               5                     54  \n",
       "top     Natural Causes  Myocardial Infarction  \n",
       "freq                75                     28  "
      ]
     },
     "execution_count": 4,
     "metadata": {},
     "output_type": "execute_result"
    }
   ],
   "source": [
    "data.describe()"
   ]
  },
  {
   "cell_type": "code",
   "execution_count": 5,
   "id": "acknowledged-motivation",
   "metadata": {
    "execution": {
     "iopub.execute_input": "2021-04-28T13:17:37.791983Z",
     "iopub.status.busy": "2021-04-28T13:17:37.791102Z",
     "iopub.status.idle": "2021-04-28T13:17:37.794984Z",
     "shell.execute_reply": "2021-04-28T13:17:37.795456Z"
    },
    "papermill": {
     "duration": 0.02449,
     "end_time": "2021-04-28T13:17:37.795625",
     "exception": false,
     "start_time": "2021-04-28T13:17:37.771135",
     "status": "completed"
    },
    "tags": []
   },
   "outputs": [
    {
     "data": {
      "text/plain": [
       "(7686, 15)"
      ]
     },
     "execution_count": 5,
     "metadata": {},
     "output_type": "execute_result"
    }
   ],
   "source": [
    "data.shape"
   ]
  },
  {
   "cell_type": "code",
   "execution_count": 6,
   "id": "modular-copper",
   "metadata": {
    "execution": {
     "iopub.execute_input": "2021-04-28T13:17:37.833178Z",
     "iopub.status.busy": "2021-04-28T13:17:37.832224Z",
     "iopub.status.idle": "2021-04-28T13:17:37.837151Z",
     "shell.execute_reply": "2021-04-28T13:17:37.836506Z"
    },
    "papermill": {
     "duration": 0.025867,
     "end_time": "2021-04-28T13:17:37.837371",
     "exception": false,
     "start_time": "2021-04-28T13:17:37.811504",
     "status": "completed"
    },
    "tags": []
   },
   "outputs": [],
   "source": [
    "data.drop(columns =['Education Place', 'Native Language','Father', 'Mother', 'Spouse'], inplace = True)"
   ]
  },
  {
   "cell_type": "code",
   "execution_count": 7,
   "id": "dietary-approach",
   "metadata": {
    "execution": {
     "iopub.execute_input": "2021-04-28T13:17:37.888797Z",
     "iopub.status.busy": "2021-04-28T13:17:37.880398Z",
     "iopub.status.idle": "2021-04-28T13:17:37.894031Z",
     "shell.execute_reply": "2021-04-28T13:17:37.893383Z"
    },
    "papermill": {
     "duration": 0.041123,
     "end_time": "2021-04-28T13:17:37.894180",
     "exception": false,
     "start_time": "2021-04-28T13:17:37.853057",
     "status": "completed"
    },
    "tags": []
   },
   "outputs": [
    {
     "name": "stdout",
     "output_type": "stream",
     "text": [
      "<class 'pandas.core.frame.DataFrame'>\n",
      "RangeIndex: 7686 entries, 0 to 7685\n",
      "Data columns (total 10 columns):\n",
      " #   Column        Non-Null Count  Dtype \n",
      "---  ------        --------------  ----- \n",
      " 0   Full Name     7686 non-null   object\n",
      " 1   Description   7639 non-null   object\n",
      " 2   Job           7575 non-null   object\n",
      " 3   Country       7686 non-null   object\n",
      " 4   Birth Date    6322 non-null   object\n",
      " 5   Death Date    1155 non-null   object\n",
      " 6   Birth Place   5110 non-null   object\n",
      " 7   Death Place   620 non-null    object\n",
      " 8   Death Method  130 non-null    object\n",
      " 9   Death Reason  176 non-null    object\n",
      "dtypes: object(10)\n",
      "memory usage: 600.6+ KB\n"
     ]
    }
   ],
   "source": [
    "data.info()"
   ]
  },
  {
   "cell_type": "code",
   "execution_count": 8,
   "id": "expressed-package",
   "metadata": {
    "execution": {
     "iopub.execute_input": "2021-04-28T13:17:37.932014Z",
     "iopub.status.busy": "2021-04-28T13:17:37.931276Z",
     "iopub.status.idle": "2021-04-28T13:17:37.961340Z",
     "shell.execute_reply": "2021-04-28T13:17:37.960647Z"
    },
    "papermill": {
     "duration": 0.051344,
     "end_time": "2021-04-28T13:17:37.961479",
     "exception": false,
     "start_time": "2021-04-28T13:17:37.910135",
     "status": "completed"
    },
    "tags": []
   },
   "outputs": [],
   "source": [
    "data.duplicated().sum()\n",
    "data.drop_duplicates(inplace= True)"
   ]
  },
  {
   "cell_type": "code",
   "execution_count": 9,
   "id": "controlling-somalia",
   "metadata": {
    "execution": {
     "iopub.execute_input": "2021-04-28T13:17:38.006669Z",
     "iopub.status.busy": "2021-04-28T13:17:38.005968Z",
     "iopub.status.idle": "2021-04-28T13:17:38.018027Z",
     "shell.execute_reply": "2021-04-28T13:17:38.018526Z"
    },
    "papermill": {
     "duration": 0.040531,
     "end_time": "2021-04-28T13:17:38.018742",
     "exception": false,
     "start_time": "2021-04-28T13:17:37.978211",
     "status": "completed"
    },
    "tags": []
   },
   "outputs": [],
   "source": [
    "data.isnull().sum()\n",
    "data.dropna(how='any', inplace= True)"
   ]
  },
  {
   "cell_type": "code",
   "execution_count": 10,
   "id": "facial-harvest",
   "metadata": {
    "execution": {
     "iopub.execute_input": "2021-04-28T13:17:38.055932Z",
     "iopub.status.busy": "2021-04-28T13:17:38.055164Z",
     "iopub.status.idle": "2021-04-28T13:17:38.070182Z",
     "shell.execute_reply": "2021-04-28T13:17:38.069522Z"
    },
    "papermill": {
     "duration": 0.034569,
     "end_time": "2021-04-28T13:17:38.070326",
     "exception": false,
     "start_time": "2021-04-28T13:17:38.035757",
     "status": "completed"
    },
    "tags": []
   },
   "outputs": [
    {
     "name": "stdout",
     "output_type": "stream",
     "text": [
      "<class 'pandas.core.frame.DataFrame'>\n",
      "Int64Index: 71 entries, 2 to 7380\n",
      "Data columns (total 10 columns):\n",
      " #   Column        Non-Null Count  Dtype \n",
      "---  ------        --------------  ----- \n",
      " 0   Full Name     71 non-null     object\n",
      " 1   Description   71 non-null     object\n",
      " 2   Job           71 non-null     object\n",
      " 3   Country       71 non-null     object\n",
      " 4   Birth Date    71 non-null     object\n",
      " 5   Death Date    71 non-null     object\n",
      " 6   Birth Place   71 non-null     object\n",
      " 7   Death Place   71 non-null     object\n",
      " 8   Death Method  71 non-null     object\n",
      " 9   Death Reason  71 non-null     object\n",
      "dtypes: object(10)\n",
      "memory usage: 6.1+ KB\n"
     ]
    }
   ],
   "source": [
    "data.info()"
   ]
  },
  {
   "cell_type": "code",
   "execution_count": 11,
   "id": "visible-police",
   "metadata": {
    "execution": {
     "iopub.execute_input": "2021-04-28T13:17:38.110364Z",
     "iopub.status.busy": "2021-04-28T13:17:38.109345Z",
     "iopub.status.idle": "2021-04-28T13:17:38.121223Z",
     "shell.execute_reply": "2021-04-28T13:17:38.120449Z"
    },
    "papermill": {
     "duration": 0.034113,
     "end_time": "2021-04-28T13:17:38.121386",
     "exception": false,
     "start_time": "2021-04-28T13:17:38.087273",
     "status": "completed"
    },
    "tags": []
   },
   "outputs": [
    {
     "data": {
      "text/plain": [
       "Full Name       71\n",
       "Description     50\n",
       "Job             20\n",
       "Country          3\n",
       "Birth Date      71\n",
       "Death Date      71\n",
       "Birth Place     54\n",
       "Death Place     28\n",
       "Death Method     4\n",
       "Death Reason    24\n",
       "dtype: int64"
      ]
     },
     "execution_count": 11,
     "metadata": {},
     "output_type": "execute_result"
    }
   ],
   "source": [
    "data.nunique()"
   ]
  },
  {
   "cell_type": "code",
   "execution_count": 12,
   "id": "mineral-recipe",
   "metadata": {
    "execution": {
     "iopub.execute_input": "2021-04-28T13:17:38.159670Z",
     "iopub.status.busy": "2021-04-28T13:17:38.159008Z",
     "iopub.status.idle": "2021-04-28T13:17:38.164315Z",
     "shell.execute_reply": "2021-04-28T13:17:38.164903Z"
    },
    "papermill": {
     "duration": 0.02652,
     "end_time": "2021-04-28T13:17:38.165081",
     "exception": false,
     "start_time": "2021-04-28T13:17:38.138561",
     "status": "completed"
    },
    "tags": []
   },
   "outputs": [
    {
     "data": {
      "text/plain": [
       "array(['Homicide', 'Natural Causes', 'Suicide', 'Accident'], dtype=object)"
      ]
     },
     "execution_count": 12,
     "metadata": {},
     "output_type": "execute_result"
    }
   ],
   "source": [
    "data[ 'Death Method'].unique()"
   ]
  },
  {
   "cell_type": "code",
   "execution_count": 13,
   "id": "abstract-blanket",
   "metadata": {
    "execution": {
     "iopub.execute_input": "2021-04-28T13:17:38.203927Z",
     "iopub.status.busy": "2021-04-28T13:17:38.203138Z",
     "iopub.status.idle": "2021-04-28T13:17:38.209998Z",
     "shell.execute_reply": "2021-04-28T13:17:38.210472Z"
    },
    "papermill": {
     "duration": 0.02759,
     "end_time": "2021-04-28T13:17:38.210665",
     "exception": false,
     "start_time": "2021-04-28T13:17:38.183075",
     "status": "completed"
    },
    "tags": []
   },
   "outputs": [
    {
     "data": {
      "text/plain": [
       "array(['Ballistic Trauma', 'Myocardial Infarction', 'Liver Cirrhosis',\n",
       "       'Hanging', 'Cancer', 'Cardiac Arrest', 'Aircraft Crash',\n",
       "       'Meningoencephalitis', 'Tetanus', 'Fall', 'Leukemia',\n",
       "       'Uterine Cancer', 'Pancreatic Cancer', 'Assassination',\n",
       "       'Lung Cancer', 'Pneumonia', 'Kidney Failure', 'Drowning',\n",
       "       'Smallpox', 'Covid-19', 'Colorectal Cancer', 'Breast Cancer',\n",
       "       'Myeloproliferative Disorders', 'Kidney Disease'], dtype=object)"
      ]
     },
     "execution_count": 13,
     "metadata": {},
     "output_type": "execute_result"
    }
   ],
   "source": [
    "data['Death Reason'].unique()"
   ]
  },
  {
   "cell_type": "code",
   "execution_count": 14,
   "id": "brief-willow",
   "metadata": {
    "execution": {
     "iopub.execute_input": "2021-04-28T13:17:38.255258Z",
     "iopub.status.busy": "2021-04-28T13:17:38.254410Z",
     "iopub.status.idle": "2021-04-28T13:17:38.258772Z",
     "shell.execute_reply": "2021-04-28T13:17:38.258198Z"
    },
    "papermill": {
     "duration": 0.030065,
     "end_time": "2021-04-28T13:17:38.258917",
     "exception": false,
     "start_time": "2021-04-28T13:17:38.228852",
     "status": "completed"
    },
    "tags": []
   },
   "outputs": [
    {
     "data": {
      "text/plain": [
       "Full Name       0\n",
       "Description     0\n",
       "Job             0\n",
       "Country         0\n",
       "Birth Date      0\n",
       "Death Date      0\n",
       "Birth Place     0\n",
       "Death Place     0\n",
       "Death Method    0\n",
       "Death Reason    0\n",
       "dtype: int64"
      ]
     },
     "execution_count": 14,
     "metadata": {},
     "output_type": "execute_result"
    }
   ],
   "source": [
    "data.isnull().sum()"
   ]
  },
  {
   "cell_type": "code",
   "execution_count": 15,
   "id": "natural-swaziland",
   "metadata": {
    "execution": {
     "iopub.execute_input": "2021-04-28T13:17:38.299441Z",
     "iopub.status.busy": "2021-04-28T13:17:38.298725Z",
     "iopub.status.idle": "2021-04-28T13:17:38.307164Z",
     "shell.execute_reply": "2021-04-28T13:17:38.306621Z"
    },
    "papermill": {
     "duration": 0.029809,
     "end_time": "2021-04-28T13:17:38.307372",
     "exception": false,
     "start_time": "2021-04-28T13:17:38.277563",
     "status": "completed"
    },
    "tags": []
   },
   "outputs": [
    {
     "data": {
      "text/plain": [
       "Full Name       0\n",
       "Description     0\n",
       "Job             0\n",
       "Country         0\n",
       "Birth Date      0\n",
       "Death Date      0\n",
       "Birth Place     0\n",
       "Death Place     0\n",
       "Death Method    0\n",
       "Death Reason    0\n",
       "dtype: int64"
      ]
     },
     "execution_count": 15,
     "metadata": {},
     "output_type": "execute_result"
    }
   ],
   "source": [
    "data.isnull().sum()"
   ]
  },
  {
   "cell_type": "code",
   "execution_count": 16,
   "id": "rolled-paint",
   "metadata": {
    "execution": {
     "iopub.execute_input": "2021-04-28T13:17:38.386986Z",
     "iopub.status.busy": "2021-04-28T13:17:38.376433Z",
     "iopub.status.idle": "2021-04-28T13:17:38.715604Z",
     "shell.execute_reply": "2021-04-28T13:17:38.714747Z"
    },
    "papermill": {
     "duration": 0.38947,
     "end_time": "2021-04-28T13:17:38.715788",
     "exception": false,
     "start_time": "2021-04-28T13:17:38.326318",
     "status": "completed"
    },
    "tags": []
   },
   "outputs": [
    {
     "data": {
      "image/png": "[encoded data removed]",
      "text/plain": [
       "<Figure size 1008x576 with 1 Axes>"
      ]
     },
     "metadata": {
      "needs_background": "light"
     },
     "output_type": "display_data"
    }
   ],
   "source": [
    "plt.rcParams['font.size'] = 12\n",
    "plt.figure(figsize=(14,8))\n",
    "sns.countplot(y='Death Reason', data=data, order=data['Death Reason'].value_counts().index[:20])\n",
    "plt.xlabel('Deaths', weight='bold', fontsize=16)\n",
    "plt.ylabel('Death Reason', weight='bold', fontsize=16)\n",
    "plt.show()"
   ]
  },
  {
   "cell_type": "code",
   "execution_count": 17,
   "id": "happy-coffee",
   "metadata": {
    "execution": {
     "iopub.execute_input": "2021-04-28T13:17:38.795924Z",
     "iopub.status.busy": "2021-04-28T13:17:38.791412Z",
     "iopub.status.idle": "2021-04-28T13:17:38.919467Z",
     "shell.execute_reply": "2021-04-28T13:17:38.919983Z"
    },
    "papermill": {
     "duration": 0.183987,
     "end_time": "2021-04-28T13:17:38.920170",
     "exception": false,
     "start_time": "2021-04-28T13:17:38.736183",
     "status": "completed"
    },
    "tags": []
   },
   "outputs": [
    {
     "data": {
      "text/plain": [
       "<AxesSubplot:xlabel='Death Method', ylabel='count'>"
      ]
     },
     "execution_count": 17,
     "metadata": {},
     "output_type": "execute_result"
    },
    {
     "data": {
      "image/png": "[encoded data removed]",
      "text/plain": [
       "<Figure size 432x288 with 1 Axes>"
      ]
     },
     "metadata": {},
     "output_type": "display_data"
    }
   ],
   "source": [
    "sns.set_style('whitegrid')\n",
    "sns.countplot(x= 'Death Method',data=data)"
   ]
  },
  {
   "cell_type": "code",
   "execution_count": 18,
   "id": "cosmetic-pastor",
   "metadata": {
    "execution": {
     "iopub.execute_input": "2021-04-28T13:17:38.998946Z",
     "iopub.status.busy": "2021-04-28T13:17:38.997920Z",
     "iopub.status.idle": "2021-04-28T13:17:39.263648Z",
     "shell.execute_reply": "2021-04-28T13:17:39.263000Z"
    },
    "papermill": {
     "duration": 0.321728,
     "end_time": "2021-04-28T13:17:39.263790",
     "exception": false,
     "start_time": "2021-04-28T13:17:38.942062",
     "status": "completed"
    },
    "tags": []
   },
   "outputs": [
    {
     "data": {
      "image/png": "[encoded data removed]",
      "text/plain": [
       "<Figure size 936x504 with 1 Axes>"
      ]
     },
     "metadata": {},
     "output_type": "display_data"
    }
   ],
   "source": [
    "plt.style.use('fivethirtyeight')\n",
    "plt.figure(figsize=(13,7))\n",
    "plt.title(\"Job\")\n",
    "g = plt.pie(data.Job.value_counts(), labels=data.Job.value_counts().index,autopct='%1.1f%%', startangle=45)\n",
    "plt.show()"
   ]
  }
 ],
 "metadata": {
  "kernelspec": {
   "display_name": "Python 3",
   "language": "python",
   "name": "python3"
  },
  "language_info": {
   "codemirror_mode": {
    "name": "ipython",
    "version": 3
   },
   "file_extension": ".py",
   "mimetype": "text/x-python",
   "name": "python",
   "nbconvert_exporter": "python",
   "pygments_lexer": "ipython3",
   "version": "3.7.10"
  },
  "papermill": {
   "default_parameters": {},
   "duration": 12.906391,
   "end_time": "2021-04-28T13:17:40.772150",
   "environment_variables": {},
   "exception": null,
   "input_path": "__notebook__.ipynb",
   "output_path": "__notebook__.ipynb",
   "parameters": {},
   "start_time": "2021-04-28T13:17:27.865759",
   "version": "2.3.3"
  }
 },
 "nbformat": 4,
 "nbformat_minor": 5
}
